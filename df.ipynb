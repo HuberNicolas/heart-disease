{
 "metadata": {
  "language_info": {
   "codemirror_mode": {
    "name": "ipython",
    "version": 3
   },
   "file_extension": ".py",
   "mimetype": "text/x-python",
   "name": "python",
   "nbconvert_exporter": "python",
   "pygments_lexer": "ipython3",
   "version": "3.8.5-final"
  },
  "orig_nbformat": 2,
  "kernelspec": {
   "name": "python385jvsc74a57bd0e169789a8a24bd293e0e567b1a4f7ab47d7e5c50178991eeca607254e2c130d4",
   "display_name": "Python 3.8.5 64-bit"
  },
  "metadata": {
   "interpreter": {
    "hash": "e169789a8a24bd293e0e567b1a4f7ab47d7e5c50178991eeca607254e2c130d4"
   }
  }
 },
 "nbformat": 4,
 "nbformat_minor": 2,
 "cells": [
  {
   "cell_type": "code",
   "execution_count": 14,
   "metadata": {},
   "outputs": [],
   "source": [
    "import numpy as np\n",
    "import pandas as pd\n",
    "import seaborn as sns\n",
    "import matplotlib.pyplot as plt\n",
    "from sklearn import (datasets, neighbors, svm, model_selection)"
   ]
  },
  {
   "cell_type": "code",
   "execution_count": 16,
   "metadata": {},
   "outputs": [],
   "source": [
    "# import .csv files (without header)\n",
    "df_c = pd.read_csv('data/cleveland_76_header.csv', sep=',')\n",
    "df_h = pd.read_csv('data/hungarian_76_header.csv', sep=',')\n",
    "#df_n = pd.read_csv('data/new_76.csv', sep=',') header contains 90 features\n",
    "df_s = pd.read_csv('data/switzerland_76_header.csv', sep=',')\n",
    "df_v = pd.read_csv('data/long-beach-va_76_header.csv', sep=',')\n",
    "\n"
   ]
  },
  {
   "cell_type": "code",
   "execution_count": 20,
   "metadata": {},
   "outputs": [],
   "source": [
    "# import .csv files (with added header)\n",
    "df_c = pd.read_csv('data/cleveland_76_header.csv', sep=',')\n",
    "df_h = pd.read_csv('data/hungarian_76_header.csv', sep=',')\n",
    "#df_n = pd.read_csv('data/new_76.csv', sep=',') header contains 90 features\n",
    "df_s = pd.read_csv('data/switzerland_76_header.csv', sep=',')\n",
    "df_v = pd.read_csv('data/long-beach-va_76_header.csv', sep=',')"
   ]
  },
  {
   "cell_type": "code",
   "execution_count": 21,
   "metadata": {},
   "outputs": [
    {
     "output_type": "stream",
     "name": "stdout",
     "text": [
      "<bound method NDFrame.head of       id  ccf  age  sex  painloc  painexer  relrest  pncaden  cp  trestbps  \\\n0      1    0   63    1       -9        -9       -9       -9   1       145   \n1      2    0   67    1       -9        -9       -9       -9   4       160   \n2      3    0   67    1       -9        -9       -9       -9   4       120   \n3      4    0   37    1       -9        -9       -9       -9   3       130   \n4      6    0   41    0       -9        -9       -9       -9   2       130   \n..   ...  ...  ...  ...      ...       ...      ...      ...  ..       ...   \n277  294    0   39    0       -9        -9       -9       -9   3       138   \n278  295    0   57    1       -9        -9       -9       -9   2       154   \n279  296    0   58    0       -9        -9       -9       -9   4       130   \n280  297    0   57    1       -9        -9       -9       -9   4       110   \n281  298    0   47    1       -9        -9       -9       -9   3       130   \n\n     ...  rcaprox  rcadist  lvx1  lvx2  lvx3  lvx4  lvf  cathef  junk  name  \n0    ...        1        1     1     1     1     1    1      -9    -9  name  \n1    ...        1        1     1     1     1     1    1      -9    -9  name  \n2    ...        2        2     1     1     1     7    3      -9    -9  name  \n3    ...        1        1     1     1     1     1    1      -9    -9  name  \n4    ...        1        1     1     1     1     1    1      -9    -9  name  \n..   ...      ...      ...   ...   ...   ...   ...  ...     ...   ...   ...  \n277  ...        1        1     1     1     1     1    2      -9    -9  name  \n278  ...        1        1     1     1     1     1    1      -9    -9  name  \n279  ...        1        1     1     1     1     1    1      -9    -9  name  \n280  ...        1        2     1     1     1     1    1      -9    -9  name  \n281  ...        1        1     1     1     1     1    1      -9    -9  name  \n\n[282 rows x 76 columns]>\n<bound method NDFrame.head of        id  ccf  age  sex  painloc  painexer  relrest  pncaden  cp  trestbps  \\\n0    1254    0   40    1        1         0        0       -9   2       140   \n1    1255    0   49    0        1         0        0       -9   3       160   \n2    1256    0   37    1        1         0        0       -9   2       130   \n3    1257    0   48    0        1         1        1       -9   4       138   \n4    1258    0   54    1        1         0        1       -9   3       150   \n..    ...  ...  ...  ...      ...       ...      ...      ...  ..       ...   \n289  1053    0   48    0        0         0        0       -9   2        -9   \n290  1054    0   36    1        1         0        0       -9   2       120   \n291  5001    0   48    1        0         0        0       -9   3       110   \n292  5000    0   47    0        0         0        0       -9   2       140   \n293  5002    0   53    1        1         1        1       -9   4       130   \n\n     ...  rcaprox  rcadist  lvx1  lvx2  lvx3  lvx4  lvf  cathef  junk  name  \n0    ...       -9       -9     1     1     1     1    1    -9.0  -9.0  name  \n1    ...       -9       -9     1     1     1     1    1    -9.0  -9.0  name  \n2    ...       -9       -9     1     1     1     1    1    -9.0  -9.0  name  \n3    ...        2       -9     1     1     1     1    1    -9.0  -9.0  name  \n4    ...        1       -9     1     1     1     1    1    -9.0  -9.0  name  \n..   ...      ...      ...   ...   ...   ...   ...  ...     ...   ...   ...  \n289  ...       -9       -9     1     1     1     1    1    -9.0  -9.0  name  \n290  ...       -9       -9     1     1     1     1    1    -9.0  -9.0  name  \n291  ...       -9       -9     1     1     1     1    1    -9.0  -9.0  name  \n292  ...       -9       -9     1     1     1     1    1    -9.0  -9.0  name  \n293  ...        1        1     1     1     1     1    1    -9.0  -9.0  name  \n\n[294 rows x 76 columns]>\n<bound method NDFrame.head of        id  ccf  age  sex  painloc  painexer  relrest  pncaden  cp  trestbps  \\\n0    3001    0   65    1        1         1        1       -9   4       115   \n1    3002    0   32    1        0         0        0       -9   1        95   \n2    3003    0   61    1        1         1        1       -9   4       105   \n3    3004    0   50    1        1         1        1       -9   4       145   \n4    3005    0   57    1        1         1        1       -9   4       110   \n..    ...  ...  ...  ...      ...       ...      ...      ...  ..       ...   \n118  4070    0   54    1        1         1        1       -9   4       180   \n119  4071    0   56    1        1         1        1       -9   4       125   \n120  4072    0   56    1        0         1        1       -9   3       125   \n121  4073    0   54    1        1         1        1       -9   4       130   \n122  4074    0   66    0        1         1        1       -9   4       155   \n\n     ...  rcaprox  rcadist  lvx1  lvx2  lvx3  lvx4  lvf  cathef  junk  name  \n0    ...        1        1     1     1     1     1    1    75.0  -9.0  name  \n1    ...        1        1     1     1     1     5    1    63.0  -9.0  name  \n2    ...        2        1     1     1     1     1    1    67.0  -9.0  name  \n3    ...        1        1     1     1     1     5    4    36.0  -9.0  name  \n4    ...        2        1     1     1     1     1    1    60.0  -9.0  name  \n..   ...      ...      ...   ...   ...   ...   ...  ...     ...   ...   ...  \n118  ...        1        1     1     1     1     1    1    71.0  -9.0  name  \n119  ...        2        1     5     1     1     1    2    68.0  -9.0  name  \n120  ...        1        1     1     1     5     3    2    61.0  -9.0  name  \n121  ...        2        1     1     1     1     1    1    -9.0  -9.0  name  \n122  ...        2        1     1     1     1     1    1    70.0  -9.0  name  \n\n[123 rows x 76 columns]>\n<bound method NDFrame.head of       id  ccf  age  sex  painloc  painexer  relrest  pncaden  cp  trestbps  \\\n0      1    0   63    1        1         1        1       -9   4       140   \n1      2    0   44    1        1         1        1       -9   4       130   \n2      3    0   60    1        1         1        1       -9   4       132   \n3      4    0   55    1        1         1        1       -9   4       142   \n4      5    0   66    1        1         0        0       -9   3       110   \n..   ...  ...  ...  ...      ...       ...      ...      ...  ..       ...   \n195  200    0   54    0        1         1        1       -9   4       127   \n196  201    0   62    1        0         0        0       -9   1        -9   \n197  202    0   55    1        1         1        1       -9   4       122   \n198  116    0   58    1        1         1        1       -9   4        -9   \n199  160    0   62    1        1         0        0       -9   2       120   \n\n     ...  rcaprox  rcadist  lvx1  lvx2  lvx3  lvx4  lvf  cathef  junk  name  \n0    ...        2        1     1     1     1     1    1    0.70   5.5  name  \n1    ...        1        1     1     1     1     1    1    0.50  -9.0  name  \n2    ...        2        1     1     1     1     7    2    0.52   4.1  name  \n3    ...        1        1     1     1     1     1    1    0.73   6.5  name  \n4    ...        1        1     1     1     1     1    1    0.73   8.0  name  \n..   ...      ...      ...   ...   ...   ...   ...  ...     ...   ...   ...  \n195  ...        1        1     1     1     1     1    1    0.76   5.6  name  \n196  ...        1        1     1     1     1     1    2    0.62   3.5  name  \n197  ...        2        1     1     1     1     1    1    0.69   5.6  name  \n198  ...        1        1     1     1     1     1    1    0.81   6.0  name  \n199  ...        2        1     1     1     1     1    1   -9.00  -9.0  name  \n\n[200 rows x 76 columns]>\n"
     ]
    }
   ],
   "source": [
    "print(df_c.head) # [282 rows x 76 columns] should be 303, seems broken...\n",
    "print(df_h.head) # [294 rows x 76 columns] \n",
    "print(df_s.head) # [123 rows x 76 columns]\n",
    "print(df_v.head) # [200 rows x 76 columns]\n",
    "\n"
   ]
  },
  {
   "cell_type": "code",
   "execution_count": null,
   "metadata": {},
   "outputs": [],
   "source": []
  }
 ]
}